{
  "nbformat": 4,
  "nbformat_minor": 0,
  "metadata": {
    "colab": {
      "provenance": [],
      "authorship_tag": "ABX9TyPGEFfZPLvJuj8xklXoLGyM",
      "include_colab_link": true
    },
    "kernelspec": {
      "name": "python3",
      "display_name": "Python 3"
    },
    "language_info": {
      "name": "python"
    }
  },
  "cells": [
    {
      "cell_type": "markdown",
      "metadata": {
        "id": "view-in-github",
        "colab_type": "text"
      },
      "source": [
        "<a href=\"https://colab.research.google.com/github/Ashvithaa05/Prodigy/blob/main/prodigy_task3.ipynb\" target=\"_parent\"><img src=\"https://colab.research.google.com/assets/colab-badge.svg\" alt=\"Open In Colab\"/></a>"
      ]
    },
    {
      "cell_type": "code",
      "source": [
        "import random\n",
        "from collections import defaultdict\n",
        "import gradio as gr"
      ],
      "metadata": {
        "id": "4egF90mhWGzV"
      },
      "execution_count": null,
      "outputs": []
    },
    {
      "cell_type": "code",
      "source": [
        "class MarkovChainTextGenerator:\n",
        "    def __init__(self):\n",
        "        self.chain = defaultdict(list)\n",
        "\n",
        "\n",
        "    def build_chain(self, text, n=1):\n",
        "        words = text.split()\n",
        "        for i in range(len(words) - n):\n",
        "            key = tuple(words[i:i + n])\n",
        "            next_word = words[i + n]\n",
        "            self.chain[key].append(next_word)\n",
        "        print(f\"Markov Chain built with {len(self.chain)} keys\")\n",
        "\n",
        "\n",
        "    def generate_text(self, seed, length=50):\n",
        "        seed_tuple = tuple(seed.split())\n",
        "        generated = list(seed_tuple)\n",
        "\n",
        "        for _ in range(length):\n",
        "            state = tuple(generated[-len(seed_tuple):])\n",
        "            if state in self.chain:\n",
        "                next_word = random.choice(self.chain[state])\n",
        "                generated.append(next_word)\n",
        "            else:\n",
        "                print(f\"No continuation found for state: {state}\")\n",
        "                break\n",
        "\n",
        "        return ' '.join(generated)"
      ],
      "metadata": {
        "id": "SsrsDt6_WmD_"
      },
      "execution_count": null,
      "outputs": []
    },
    {
      "cell_type": "code",
      "source": [
        "def generate_text_with_gradio(seed, length, text, n):\n",
        "    generator = MarkovChainTextGenerator()\n",
        "    generator.build_chain(text, n=n)\n",
        "\n",
        "    if seed not in text:\n",
        "        print(\"Seed not found in training text\")\n",
        "\n",
        "    generated_text = generator.generate_text(seed, length=length)\n",
        "    return generated_text\n",
        "\n",
        "\n",
        "default_text = \"\"\"Space exploration is one of the most fascinating endeavors undertaken by humanity. Over the past decades, countless milestones have been achieved in space discovery, leading to groundbreaking revelations about our universe. From landing humans on the Moon to searching for life on Mars, these missions have deepened our understanding of space. Satellites orbiting Earth provide crucial data about climate, weather patterns, and communication systems. Telescopes, both from the ground and in space, have revealed the silence of distant galaxies, black holes.\"\"\"\n",
        "\n",
        "\n",
        "interface = gr.Interface(\n",
        "    fn=generate_text_with_gradio,\n",
        "    inputs=[\n",
        "        gr.Textbox(lines=2, placeholder=\"Enter a seed phrase\", label=\"Seed Phrase\"),\n",
        "        gr.Slider(10, 100, step=10, value=50, label=\"Text Length\"),\n",
        "        gr.Textbox(lines=10, placeholder=\"Enter training text\", label=\"Training Text\", value=default_text),\n",
        "        gr.Slider(1, 5, step=1, value=2, label=\"Markov Chain Order (n)\")\n",
        "    ],\n",
        "    outputs=\"text\",\n",
        "    title=\"Markov Chain Text Generator\",\n",
        "    description=\"Generate text using a Markov Chain model. Input a seed phrase, select the desired text length, and provide a training corpus.\"\n",
        ")\n",
        "\n",
        "interface.launch()"
      ],
      "metadata": {
        "colab": {
          "base_uri": "https://localhost:8080/",
          "height": 645
        },
        "id": "W6_mYvhZWqJd",
        "outputId": "74a87639-3ba3-4ff4-dcf3-5c2aa1a4a115"
      },
      "execution_count": null,
      "outputs": [
        {
          "output_type": "stream",
          "name": "stdout",
          "text": [
            "Setting queue=True in a Colab notebook requires sharing enabled. Setting `share=True` (you can turn this off by setting `share=False` in `launch()` explicitly).\n",
            "\n",
            "Colab notebook detected. To show errors in colab notebook, set debug=True in launch()\n",
            "Running on public URL: https://4547fe58bb267dda87.gradio.live\n",
            "\n",
            "This share link expires in 72 hours. For free permanent hosting and GPU upgrades, run `gradio deploy` from Terminal to deploy to Spaces (https://huggingface.co/spaces)\n"
          ]
        },
        {
          "output_type": "display_data",
          "data": {
            "text/plain": [
              "<IPython.core.display.HTML object>"
            ],
            "text/html": [
              "<div><iframe src=\"https://4547fe58bb267dda87.gradio.live\" width=\"100%\" height=\"500\" allow=\"autoplay; camera; microphone; clipboard-read; clipboard-write;\" frameborder=\"0\" allowfullscreen></iframe></div>"
            ]
          },
          "metadata": {}
        },
        {
          "output_type": "execute_result",
          "data": {
            "text/plain": []
          },
          "metadata": {},
          "execution_count": 24
        }
      ]
    },
    {
      "cell_type": "code",
      "source": [],
      "metadata": {
        "id": "h3bwANAJWtt7"
      },
      "execution_count": null,
      "outputs": []
    }
  ]
}